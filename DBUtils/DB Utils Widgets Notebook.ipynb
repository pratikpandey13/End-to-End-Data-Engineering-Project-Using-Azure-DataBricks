{
 "cells": [
  {
   "cell_type": "code",
   "execution_count": 0,
   "metadata": {
    "application/vnd.databricks.v1+cell": {
     "cellMetadata": {
      "byteLimit": 2048000,
      "rowLimit": 10000
     },
     "inputWidgets": {},
     "nuid": "77023448-eea8-4516-9b28-9f7bdb4c86af",
     "showTitle": false,
     "title": ""
    }
   },
   "outputs": [
    {
     "output_type": "display_data",
     "data": {
      "text/html": [
       "<div class = \"ansiout\"><b>dbutils.widgets</b> provides utilities for working with notebook widgets. You can create\n",
       "different types of widgets and get their bound value.\n",
       "\n",
       "For more info about a method, use <b>dbutils.widgets.help(\"methodName\")</b>.\n",
       "    <h3></h3><b>combobox(name: String, defaultValue: String, choices: Seq, label: String): void</b> -> Creates a combobox input widget with a given name, default value and choices<br /><b>dropdown(name: String, defaultValue: String, choices: Seq, label: String): void</b> -> Creates a dropdown input widget a with given name, default value and choices<br /><b>get(name: String): String</b> -> Retrieves current value of an input widget<br /><b>getAll: Map</b> -> Retrieves a mapping of all current values of the input widgets<br /><b>getArgument(name: String, optional: String): String</b> -> (DEPRECATED) Equivalent to get<br /><b>multiselect(name: String, defaultValue: String, choices: Seq, label: String): void</b> -> Creates a multiselect input widget with a given name, default value and choices<br /><b>remove(name: String): void</b> -> Removes an input widget from the notebook<br /><b>removeAll: void</b> -> Removes all widgets in the notebook<br /><b>text(name: String, defaultValue: String, label: String): void</b> -> Creates a text input widget with a given name and default value<br /><br /></div>"
      ]
     },
     "metadata": {},
     "output_type": "display_data"
    }
   ],
   "source": [
    "dbutils.widgets.help()"
   ]
  },
  {
   "cell_type": "markdown",
   "metadata": {
    "application/vnd.databricks.v1+cell": {
     "cellMetadata": {},
     "inputWidgets": {},
     "nuid": "2313b090-7c02-433d-8524-a048a1c2c34b",
     "showTitle": false,
     "title": ""
    }
   },
   "source": [
    "## Combobox"
   ]
  },
  {
   "cell_type": "markdown",
   "metadata": {
    "application/vnd.databricks.v1+cell": {
     "cellMetadata": {},
     "inputWidgets": {},
     "nuid": "8e0507e3-a2c8-4bca-b57e-7214d038268e",
     "showTitle": false,
     "title": ""
    }
   },
   "source": [
    "### Adding a combobox utility "
   ]
  },
  {
   "cell_type": "code",
   "execution_count": 0,
   "metadata": {
    "application/vnd.databricks.v1+cell": {
     "cellMetadata": {
      "byteLimit": 2048000,
      "rowLimit": 10000
     },
     "inputWidgets": {},
     "nuid": "d1099540-3ba0-492e-beb2-943770f69779",
     "showTitle": false,
     "title": ""
    }
   },
   "outputs": [],
   "source": [
    "dbutils.widgets.combobox(\"ComboBox\",\"Employee\",['Manager','Employee','Tester','Lead'],\"ComboBox\")"
   ]
  },
  {
   "cell_type": "code",
   "execution_count": 0,
   "metadata": {
    "application/vnd.databricks.v1+cell": {
     "cellMetadata": {
      "byteLimit": 2048000,
      "rowLimit": 10000
     },
     "inputWidgets": {},
     "nuid": "826d575b-5586-4a5d-be3d-1a0c5e90faed",
     "showTitle": false,
     "title": ""
    }
   },
   "outputs": [
    {
     "output_type": "execute_result",
     "data": {
      "text/plain": [
       "'Tester'"
      ]
     },
     "execution_count": 3,
     "metadata": {},
     "output_type": "execute_result"
    }
   ],
   "source": [
    "dbutils.widgets.get(\"ComboBox\")"
   ]
  },
  {
   "cell_type": "markdown",
   "metadata": {
    "application/vnd.databricks.v1+cell": {
     "cellMetadata": {},
     "inputWidgets": {},
     "nuid": "47ddad1f-affa-4189-84c8-d744772d4b05",
     "showTitle": false,
     "title": ""
    }
   },
   "source": [
    "Above command retuns <b>\"Tester\"</b> as the combobox is set to Tester"
   ]
  },
  {
   "cell_type": "markdown",
   "metadata": {
    "application/vnd.databricks.v1+cell": {
     "cellMetadata": {},
     "inputWidgets": {},
     "nuid": "31010ce2-ba5f-4fee-bea7-f16d5711a282",
     "showTitle": false,
     "title": ""
    }
   },
   "source": [
    "## Drop Down"
   ]
  },
  {
   "cell_type": "markdown",
   "metadata": {
    "application/vnd.databricks.v1+cell": {
     "cellMetadata": {},
     "inputWidgets": {},
     "nuid": "02194313-faed-49c3-8377-06d270464901",
     "showTitle": false,
     "title": ""
    }
   },
   "source": [
    "Adding a Drop Down"
   ]
  },
  {
   "cell_type": "code",
   "execution_count": 0,
   "metadata": {
    "application/vnd.databricks.v1+cell": {
     "cellMetadata": {
      "byteLimit": 2048000,
      "rowLimit": 10000
     },
     "inputWidgets": {},
     "nuid": "050246d8-c639-48d0-b982-a54d016f455f",
     "showTitle": false,
     "title": ""
    }
   },
   "outputs": [],
   "source": [
    "dbutils.widgets.dropdown(\"Dropdown\",\"Employee\",['Manager','Employee','Tester','Lead'],\"Dropdown\")"
   ]
  },
  {
   "cell_type": "code",
   "execution_count": 0,
   "metadata": {
    "application/vnd.databricks.v1+cell": {
     "cellMetadata": {
      "byteLimit": 2048000,
      "rowLimit": 10000
     },
     "inputWidgets": {},
     "nuid": "31893994-9adc-46e0-b328-cd40963ab9ac",
     "showTitle": false,
     "title": ""
    }
   },
   "outputs": [
    {
     "output_type": "execute_result",
     "data": {
      "text/plain": [
       "'Tester'"
      ]
     },
     "execution_count": 2,
     "metadata": {},
     "output_type": "execute_result"
    }
   ],
   "source": [
    "dbutils.widgets.get(\"Dropdown\")"
   ]
  },
  {
   "cell_type": "markdown",
   "metadata": {
    "application/vnd.databricks.v1+cell": {
     "cellMetadata": {},
     "inputWidgets": {},
     "nuid": "fe76bad0-8c16-4bb7-9e3f-67709ddb24b0",
     "showTitle": false,
     "title": ""
    }
   },
   "source": [
    "above command returns <b>\"Lead\"</b> as the Lead is selected in the dropdown"
   ]
  },
  {
   "cell_type": "markdown",
   "metadata": {
    "application/vnd.databricks.v1+cell": {
     "cellMetadata": {},
     "inputWidgets": {},
     "nuid": "23a1e349-c42e-43aa-8204-aa7151a2becc",
     "showTitle": false,
     "title": ""
    }
   },
   "source": [
    "## Multiselect \n"
   ]
  },
  {
   "cell_type": "markdown",
   "metadata": {
    "application/vnd.databricks.v1+cell": {
     "cellMetadata": {},
     "inputWidgets": {},
     "nuid": "6eace305-06cb-4dc6-9849-defb8e198604",
     "showTitle": false,
     "title": ""
    }
   },
   "source": [
    "Using the MultiSelect uyility"
   ]
  },
  {
   "cell_type": "code",
   "execution_count": 0,
   "metadata": {
    "application/vnd.databricks.v1+cell": {
     "cellMetadata": {
      "byteLimit": 2048000,
      "rowLimit": 10000
     },
     "inputWidgets": {},
     "nuid": "afe850bd-68d3-4711-a3a8-43614152c998",
     "showTitle": false,
     "title": ""
    }
   },
   "outputs": [],
   "source": [
    "dbutils.widgets.multiselect(\"Multiselect\",\"Employee\",['Manager','Lead','Employee','Tester'],\"Multiselect\")"
   ]
  },
  {
   "cell_type": "code",
   "execution_count": 0,
   "metadata": {
    "application/vnd.databricks.v1+cell": {
     "cellMetadata": {
      "byteLimit": 2048000,
      "rowLimit": 10000
     },
     "inputWidgets": {},
     "nuid": "58e3b7d2-c2a0-40d8-9010-07ac109f4b3c",
     "showTitle": false,
     "title": ""
    }
   },
   "outputs": [
    {
     "output_type": "execute_result",
     "data": {
      "text/plain": [
       "'Lead,Employee,Tester'"
      ]
     },
     "execution_count": 7,
     "metadata": {},
     "output_type": "execute_result"
    }
   ],
   "source": [
    "dbutils.widgets.get(\"Multiselect\")"
   ]
  },
  {
   "cell_type": "markdown",
   "metadata": {
    "application/vnd.databricks.v1+cell": {
     "cellMetadata": {},
     "inputWidgets": {},
     "nuid": "9899e59f-bac5-4cbe-af54-5e7fc59afe4e",
     "showTitle": false,
     "title": ""
    }
   },
   "source": [
    "## Text Utility "
   ]
  },
  {
   "cell_type": "markdown",
   "metadata": {
    "application/vnd.databricks.v1+cell": {
     "cellMetadata": {},
     "inputWidgets": {},
     "nuid": "c5b2e88f-6d56-415d-a13a-34b63994e792",
     "showTitle": false,
     "title": ""
    }
   },
   "source": [
    "Using the text utility inside widgets"
   ]
  },
  {
   "cell_type": "code",
   "execution_count": 0,
   "metadata": {
    "application/vnd.databricks.v1+cell": {
     "cellMetadata": {
      "byteLimit": 2048000,
      "rowLimit": 10000
     },
     "inputWidgets": {},
     "nuid": "ad8e1b25-2f5f-4438-81d5-437c32e41c28",
     "showTitle": false,
     "title": ""
    }
   },
   "outputs": [],
   "source": [
    "dbutils.widgets.text(\"Text Frame\",\" \",\"Text Label\")"
   ]
  },
  {
   "cell_type": "code",
   "execution_count": 0,
   "metadata": {
    "application/vnd.databricks.v1+cell": {
     "cellMetadata": {
      "byteLimit": 2048000,
      "rowLimit": 10000
     },
     "inputWidgets": {},
     "nuid": "0ccec29f-2f87-4070-a2bf-0207f34910cc",
     "showTitle": false,
     "title": ""
    }
   },
   "outputs": [
    {
     "output_type": "execute_result",
     "data": {
      "text/plain": [
       "' 2024'"
      ]
     },
     "execution_count": 12,
     "metadata": {},
     "output_type": "execute_result"
    }
   ],
   "source": [
    "dbutils.widgets.get(\"Text Frame\")"
   ]
  },
  {
   "cell_type": "code",
   "execution_count": 0,
   "metadata": {
    "application/vnd.databricks.v1+cell": {
     "cellMetadata": {},
     "inputWidgets": {},
     "nuid": "3cb43b5a-48e8-4d39-b11a-d9902b1380e1",
     "showTitle": false,
     "title": ""
    }
   },
   "outputs": [],
   "source": []
  }
 ],
 "metadata": {
  "application/vnd.databricks.v1+notebook": {
   "dashboards": [],
   "environmentMetadata": null,
   "language": "python",
   "notebookMetadata": {
    "pythonIndentUnit": 4
   },
   "notebookName": "DB Utils Widgets Notebook",
   "widgets": {
    "ComboBox": {
     "currentValue": "Tester",
     "nuid": "61461ac7-1709-4272-9a0e-f4ba5c9b08de",
     "typedWidgetInfo": {
      "autoCreated": false,
      "defaultValue": "Employee",
      "label": "ComboBox",
      "name": "ComboBox",
      "options": {
       "widgetDisplayType": "Dropdown",
       "choices": [
        "Manager",
        "Employee",
        "Tester",
        "Lead"
       ],
       "fixedDomain": false,
       "multiselect": false
      },
      "parameterDataType": "String"
     },
     "widgetInfo": {
      "widgetType": "combobox",
      "defaultValue": "Employee",
      "label": "ComboBox",
      "name": "ComboBox",
      "options": {
       "widgetType": "dropdown",
       "autoCreated": null,
       "choices": [
        "Manager",
        "Employee",
        "Tester",
        "Lead"
       ]
      }
     }
    },
    "Dropdown": {
     "currentValue": "Tester",
     "nuid": "d3c67725-d5a3-4fa5-9a8f-2ed59ea04d52",
     "typedWidgetInfo": {
      "autoCreated": false,
      "defaultValue": "Employee",
      "label": "Dropdown",
      "name": "Dropdown",
      "options": {
       "widgetDisplayType": "Dropdown",
       "choices": [
        "Manager",
        "Employee",
        "Tester",
        "Lead"
       ],
       "fixedDomain": true,
       "multiselect": false
      },
      "parameterDataType": "String"
     },
     "widgetInfo": {
      "widgetType": "dropdown",
      "defaultValue": "Employee",
      "label": "Dropdown",
      "name": "Dropdown",
      "options": {
       "widgetType": "dropdown",
       "autoCreated": null,
       "choices": [
        "Manager",
        "Employee",
        "Tester",
        "Lead"
       ]
      }
     }
    },
    "Multiselect": {
     "currentValue": "Lead,Employee,Tester",
     "nuid": "0d72879a-e81c-4674-9069-cbd72326fe33",
     "typedWidgetInfo": {
      "autoCreated": false,
      "defaultValue": "Employee",
      "label": "Multiselect",
      "name": "Multiselect",
      "options": {
       "widgetDisplayType": "Dropdown",
       "choices": [
        "Manager",
        "Lead",
        "Employee",
        "Tester"
       ],
       "fixedDomain": true,
       "multiselect": true
      },
      "parameterDataType": "String"
     },
     "widgetInfo": {
      "widgetType": "multiselect",
      "defaultValue": "Employee",
      "label": "Multiselect",
      "name": "Multiselect",
      "options": {
       "widgetType": "dropdown",
       "autoCreated": null,
       "choices": [
        "Manager",
        "Lead",
        "Employee",
        "Tester"
       ]
      }
     }
    },
    "Text Frame": {
     "currentValue": " 2024",
     "nuid": "34dae0c1-1445-4a71-8045-3b774cbb0f9c",
     "typedWidgetInfo": {
      "autoCreated": false,
      "defaultValue": " ",
      "label": "Text Label",
      "name": "Text Frame",
      "options": {
       "widgetDisplayType": "Text",
       "validationRegex": null
      },
      "parameterDataType": "String"
     },
     "widgetInfo": {
      "widgetType": "text",
      "defaultValue": " ",
      "label": "Text Label",
      "name": "Text Frame",
      "options": {
       "widgetType": "text",
       "autoCreated": null,
       "validationRegex": null
      }
     }
    }
   }
  }
 },
 "nbformat": 4,
 "nbformat_minor": 0
}
