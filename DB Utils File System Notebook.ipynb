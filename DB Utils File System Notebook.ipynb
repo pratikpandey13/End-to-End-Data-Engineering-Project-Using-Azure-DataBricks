{
 "cells": [
  {
   "cell_type": "code",
   "execution_count": 0,
   "metadata": {
    "application/vnd.databricks.v1+cell": {
     "cellMetadata": {
      "byteLimit": 2048000,
      "rowLimit": 10000
     },
     "inputWidgets": {},
     "nuid": "ea6b4700-5b82-4800-89bd-1e0048b823d4",
     "showTitle": false,
     "title": ""
    }
   },
   "outputs": [
    {
     "output_type": "display_data",
     "data": {
      "text/html": [
       "<div class = \"ansiout\">\n",
       "This module provides various utilities for users to interact with the rest of Databricks.\n",
       "  <h3></h3><b>credentials: DatabricksCredentialUtils</b> -> Utilities for interacting with credentials within notebooks<br /><b>data: DataUtils</b> -> Utilities for understanding and interacting with datasets (EXPERIMENTAL)<br /><b>fs: DbfsUtils</b> -> Manipulates the Databricks filesystem (DBFS) from the console<br /><b>jobs: JobsUtils</b> -> Utilities for leveraging jobs features<br /><b>library: LibraryUtils</b> -> Utilities for session isolated libraries<br /><b>meta: MetaUtils</b> -> Methods to hook into the compiler (EXPERIMENTAL)<br /><b>notebook: NotebookUtils</b> -> Utilities for the control flow of a notebook (EXPERIMENTAL)<br /><b>preview: Preview</b> -> Utilities under preview category<br /><b>secrets: SecretUtils</b> -> Provides utilities for leveraging secrets within notebooks<br /><b>widgets: WidgetsUtils</b> -> Methods to create and get bound value of input widgets inside notebooks<br /><br /></div>"
      ]
     },
     "metadata": {},
     "output_type": "display_data"
    }
   ],
   "source": [
    "dbutils.help()"
   ]
  },
  {
   "cell_type": "code",
   "execution_count": 0,
   "metadata": {
    "application/vnd.databricks.v1+cell": {
     "cellMetadata": {
      "byteLimit": 2048000,
      "rowLimit": 10000
     },
     "inputWidgets": {},
     "nuid": "1e68b540-7644-4aa7-b32e-0e55f200608c",
     "showTitle": false,
     "title": ""
    }
   },
   "outputs": [
    {
     "output_type": "execute_result",
     "data": {
      "text/plain": [
       "[FileInfo(path='dbfs:/FileStore/tables/Athletes.csv', name='Athletes.csv', size=418492, modificationTime=1728898283000),\n",
       " FileInfo(path='dbfs:/FileStore/tables/Coaches.csv', name='Coaches.csv', size=16889, modificationTime=1728898283000),\n",
       " FileInfo(path='dbfs:/FileStore/tables/Medals.csv', name='Medals.csv', size=2414, modificationTime=1728898282000),\n",
       " FileInfo(path='dbfs:/FileStore/tables/Teams.csv', name='Teams.csv', size=35270, modificationTime=1728898282000)]"
      ]
     },
     "execution_count": 4,
     "metadata": {},
     "output_type": "execute_result"
    }
   ],
   "source": [
    "## list down the contents of a folder inside the DBFS\n",
    "path = \"dbfs:/FileStore/tables\"\n",
    "dbutils.fs.ls(\"dbfs:/FileStore/tables\")"
   ]
  },
  {
   "cell_type": "code",
   "execution_count": 0,
   "metadata": {
    "application/vnd.databricks.v1+cell": {
     "cellMetadata": {
      "byteLimit": 2048000,
      "rowLimit": 10000
     },
     "inputWidgets": {},
     "nuid": "4b583f16-2a1e-4adb-8204-1237ba26db02",
     "showTitle": false,
     "title": ""
    }
   },
   "outputs": [
    {
     "output_type": "execute_result",
     "data": {
      "text/plain": [
       "True"
      ]
     },
     "execution_count": 5,
     "metadata": {},
     "output_type": "execute_result"
    }
   ],
   "source": [
    "## make a new dir\n",
    "dbutils.fs.mkdirs(path+\"copiedFolder/\") "
   ]
  },
  {
   "cell_type": "markdown",
   "metadata": {
    "application/vnd.databricks.v1+cell": {
     "cellMetadata": {},
     "inputWidgets": {},
     "nuid": "469aa621-88dd-4640-b3bd-46e66baf8e98",
     "showTitle": false,
     "title": ""
    }
   },
   "source": [
    "### ## Conclusion : New Folder Has been Created at specifoed path"
   ]
  },
  {
   "cell_type": "code",
   "execution_count": 0,
   "metadata": {
    "application/vnd.databricks.v1+cell": {
     "cellMetadata": {
      "byteLimit": 2048000,
      "rowLimit": 10000
     },
     "inputWidgets": {},
     "nuid": "14e9d1e6-0991-4f7d-8a76-b696c438044e",
     "showTitle": false,
     "title": ""
    }
   },
   "outputs": [
    {
     "output_type": "execute_result",
     "data": {
      "text/plain": [
       "[FileInfo(path='dbfs:/FileStore/tables/Athletes.csv', name='Athletes.csv', size=418492, modificationTime=1728898283000),\n",
       " FileInfo(path='dbfs:/FileStore/tables/Coaches.csv', name='Coaches.csv', size=16889, modificationTime=1728898283000),\n",
       " FileInfo(path='dbfs:/FileStore/tables/Medals.csv', name='Medals.csv', size=2414, modificationTime=1728898282000),\n",
       " FileInfo(path='dbfs:/FileStore/tables/Teams.csv', name='Teams.csv', size=35270, modificationTime=1728898282000)]"
      ]
     },
     "execution_count": 7,
     "metadata": {},
     "output_type": "execute_result"
    }
   ],
   "source": [
    "dbutils.fs.ls(path)"
   ]
  },
  {
   "cell_type": "code",
   "execution_count": 0,
   "metadata": {
    "application/vnd.databricks.v1+cell": {
     "cellMetadata": {
      "byteLimit": 2048000,
      "rowLimit": 10000
     },
     "inputWidgets": {},
     "nuid": "073c1c6e-d049-48bc-b2aa-12b3b889e26e",
     "showTitle": false,
     "title": ""
    }
   },
   "outputs": [
    {
     "output_type": "execute_result",
     "data": {
      "text/plain": [
       "[FileInfo(path='dbfs:/FileStore/tables/', name='tables/', size=0, modificationTime=1728898241000),\n",
       " FileInfo(path='dbfs:/FileStore/tablescopiedFolder/', name='tablescopiedFolder/', size=0, modificationTime=1728898561000)]"
      ]
     },
     "execution_count": 8,
     "metadata": {},
     "output_type": "execute_result"
    }
   ],
   "source": [
    "dbutils.fs.ls(\"dbfs:/FileStore/\")"
   ]
  },
  {
   "cell_type": "code",
   "execution_count": 0,
   "metadata": {
    "application/vnd.databricks.v1+cell": {
     "cellMetadata": {
      "byteLimit": 2048000,
      "rowLimit": 10000
     },
     "inputWidgets": {},
     "nuid": "0f84e1cb-cbc8-46f5-a214-e659e315d8a2",
     "showTitle": false,
     "title": ""
    }
   },
   "outputs": [],
   "source": [
    "copiedFolderPath = \"dbfs:/FileStore/tablescopiedFolder\""
   ]
  },
  {
   "cell_type": "code",
   "execution_count": 0,
   "metadata": {
    "application/vnd.databricks.v1+cell": {
     "cellMetadata": {
      "byteLimit": 2048000,
      "rowLimit": 10000
     },
     "inputWidgets": {},
     "nuid": "cc951f5c-a4b4-451a-9ea6-5979ebcbf3f5",
     "showTitle": false,
     "title": ""
    }
   },
   "outputs": [
    {
     "output_type": "execute_result",
     "data": {
      "text/plain": [
       "[]"
      ]
     },
     "execution_count": 10,
     "metadata": {},
     "output_type": "execute_result"
    }
   ],
   "source": [
    "dbutils.fs.ls(copiedFolderPath)"
   ]
  },
  {
   "cell_type": "code",
   "execution_count": 0,
   "metadata": {
    "application/vnd.databricks.v1+cell": {
     "cellMetadata": {
      "byteLimit": 2048000,
      "rowLimit": 10000
     },
     "inputWidgets": {},
     "nuid": "bf4ddc7d-845f-4a0d-a718-b75e04e3a60f",
     "showTitle": false,
     "title": ""
    }
   },
   "outputs": [
    {
     "output_type": "execute_result",
     "data": {
      "text/plain": [
       "True"
      ]
     },
     "execution_count": 13,
     "metadata": {},
     "output_type": "execute_result"
    }
   ],
   "source": [
    "## copy file from tables to copied folder\n",
    "dbutils.fs.cp(path,copiedFolderPath,True)"
   ]
  },
  {
   "cell_type": "code",
   "execution_count": 0,
   "metadata": {
    "application/vnd.databricks.v1+cell": {
     "cellMetadata": {
      "byteLimit": 2048000,
      "rowLimit": 10000
     },
     "inputWidgets": {},
     "nuid": "df1faa7c-5dbb-4cf1-b4ec-f362b8d81027",
     "showTitle": false,
     "title": ""
    }
   },
   "outputs": [
    {
     "output_type": "execute_result",
     "data": {
      "text/plain": [
       "[FileInfo(path='dbfs:/FileStore/tablescopiedFolder/Athletes.csv', name='Athletes.csv', size=418492, modificationTime=1728898865000),\n",
       " FileInfo(path='dbfs:/FileStore/tablescopiedFolder/Coaches.csv', name='Coaches.csv', size=16889, modificationTime=1728898865000),\n",
       " FileInfo(path='dbfs:/FileStore/tablescopiedFolder/Medals.csv', name='Medals.csv', size=2414, modificationTime=1728898865000),\n",
       " FileInfo(path='dbfs:/FileStore/tablescopiedFolder/Teams.csv', name='Teams.csv', size=35270, modificationTime=1728898865000)]"
      ]
     },
     "execution_count": 14,
     "metadata": {},
     "output_type": "execute_result"
    }
   ],
   "source": [
    "dbutils.fs.ls(copiedFolderPath)"
   ]
  },
  {
   "cell_type": "markdown",
   "metadata": {
    "application/vnd.databricks.v1+cell": {
     "cellMetadata": {},
     "inputWidgets": {},
     "nuid": "1a571249-448f-436f-9986-cbef7d88b428",
     "showTitle": false,
     "title": ""
    }
   },
   "source": [
    "Conclusion: Files have been copied to specified folder"
   ]
  },
  {
   "cell_type": "code",
   "execution_count": 0,
   "metadata": {
    "application/vnd.databricks.v1+cell": {
     "cellMetadata": {
      "byteLimit": 2048000,
      "rowLimit": 10000
     },
     "inputWidgets": {},
     "nuid": "711cbfb0-c6a5-4b42-9aa9-067fa1f18705",
     "showTitle": false,
     "title": ""
    }
   },
   "outputs": [
    {
     "output_type": "stream",
     "name": "stdout",
     "output_type": "stream",
     "text": [
      "Wrote 399 bytes.\n"
     ]
    },
    {
     "output_type": "execute_result",
     "data": {
      "text/plain": [
       "True"
      ]
     },
     "execution_count": 16,
     "metadata": {},
     "output_type": "execute_result"
    }
   ],
   "source": [
    "## creating a file inside the copied folder using put\n",
    "\n",
    "dbutils.fs.put(copiedFolderPath+ '/newTextFile.txt','Azure Databricks is a cloud-based data analytics platform optimized for Apache Spark, designed to enable large-scale data engineering, data science, machine learning, and business intelligence (BI) applications. It is a collaboration between Microsoft Azure and Databricks, and integrates seamlessly with Azures services, offering a managed, scalable, and secure environment for big data processing.')"
   ]
  },
  {
   "cell_type": "code",
   "execution_count": 0,
   "metadata": {
    "application/vnd.databricks.v1+cell": {
     "cellMetadata": {
      "byteLimit": 2048000,
      "rowLimit": 10000
     },
     "inputWidgets": {},
     "nuid": "ca4b8efd-c836-4829-900f-3f6dee3438fb",
     "showTitle": false,
     "title": ""
    }
   },
   "outputs": [
    {
     "output_type": "execute_result",
     "data": {
      "text/plain": [
       "[FileInfo(path='dbfs:/FileStore/tablescopiedFolder/Athletes.csv', name='Athletes.csv', size=418492, modificationTime=1728898865000),\n",
       " FileInfo(path='dbfs:/FileStore/tablescopiedFolder/Coaches.csv', name='Coaches.csv', size=16889, modificationTime=1728898865000),\n",
       " FileInfo(path='dbfs:/FileStore/tablescopiedFolder/Medals.csv', name='Medals.csv', size=2414, modificationTime=1728898865000),\n",
       " FileInfo(path='dbfs:/FileStore/tablescopiedFolder/Teams.csv', name='Teams.csv', size=35270, modificationTime=1728898865000),\n",
       " FileInfo(path='dbfs:/FileStore/tablescopiedFolder/newTextFile.txt', name='newTextFile.txt', size=399, modificationTime=1728899128000)]"
      ]
     },
     "execution_count": 17,
     "metadata": {},
     "output_type": "execute_result"
    }
   ],
   "source": [
    "dbutils.fs.ls(copiedFolderPath)"
   ]
  },
  {
   "cell_type": "code",
   "execution_count": 0,
   "metadata": {
    "application/vnd.databricks.v1+cell": {
     "cellMetadata": {
      "byteLimit": 2048000,
      "rowLimit": 10000
     },
     "inputWidgets": {},
     "nuid": "fd5dee16-446a-4230-a59c-e8a5ad6c4dd0",
     "showTitle": false,
     "title": ""
    }
   },
   "outputs": [
    {
     "output_type": "execute_result",
     "data": {
      "text/plain": [
       "'Azure Databricks is a cloud-based data analytics platform optimized for Apache Spark, designed to enable large-scale data engineering, data science, machine learning, and business intelligence (BI) applications. It is a collaboration between Microsoft Azure and Databricks, and integrates seamlessly with Azures services, offering a managed, scalable, and secure environment for big data processing.'"
      ]
     },
     "execution_count": 20,
     "metadata": {},
     "output_type": "execute_result"
    }
   ],
   "source": [
    "## Read first few lines of the text File\n",
    "dbutils.fs.head(copiedFolderPath+'/newTextFile.txt')"
   ]
  },
  {
   "cell_type": "code",
   "execution_count": 0,
   "metadata": {
    "application/vnd.databricks.v1+cell": {
     "cellMetadata": {
      "byteLimit": 2048000,
      "rowLimit": 10000
     },
     "inputWidgets": {},
     "nuid": "bd87a86d-cf20-40ab-81ab-3e2b241c955c",
     "showTitle": false,
     "title": ""
    }
   },
   "outputs": [
    {
     "output_type": "execute_result",
     "data": {
      "text/plain": [
       "True"
      ]
     },
     "execution_count": 21,
     "metadata": {},
     "output_type": "execute_result"
    }
   ],
   "source": [
    "## Move this new create file to other folder \n",
    "\n",
    "dbutils.fs.mv(copiedFolderPath+'/newTextFile.txt', path + '/newTextFile.txt')"
   ]
  },
  {
   "cell_type": "code",
   "execution_count": 0,
   "metadata": {
    "application/vnd.databricks.v1+cell": {
     "cellMetadata": {
      "byteLimit": 2048000,
      "rowLimit": 10000
     },
     "inputWidgets": {},
     "nuid": "18c7ef40-d64a-4ea3-8782-d2e15aeebd52",
     "showTitle": false,
     "title": ""
    }
   },
   "outputs": [
    {
     "output_type": "execute_result",
     "data": {
      "text/plain": [
       "[FileInfo(path='dbfs:/FileStore/tables/Athletes.csv', name='Athletes.csv', size=418492, modificationTime=1728898283000),\n",
       " FileInfo(path='dbfs:/FileStore/tables/Coaches.csv', name='Coaches.csv', size=16889, modificationTime=1728898283000),\n",
       " FileInfo(path='dbfs:/FileStore/tables/Medals.csv', name='Medals.csv', size=2414, modificationTime=1728898282000),\n",
       " FileInfo(path='dbfs:/FileStore/tables/Teams.csv', name='Teams.csv', size=35270, modificationTime=1728898282000),\n",
       " FileInfo(path='dbfs:/FileStore/tables/newTextFile.txt', name='newTextFile.txt', size=399, modificationTime=1728899247000)]"
      ]
     },
     "execution_count": 22,
     "metadata": {},
     "output_type": "execute_result"
    }
   ],
   "source": [
    "dbutils.fs.ls(path)"
   ]
  },
  {
   "cell_type": "code",
   "execution_count": 0,
   "metadata": {
    "application/vnd.databricks.v1+cell": {
     "cellMetadata": {
      "byteLimit": 2048000,
      "rowLimit": 10000
     },
     "inputWidgets": {},
     "nuid": "f5d607fe-e171-4a6d-a90a-72deab5ff3f7",
     "showTitle": false,
     "title": ""
    }
   },
   "outputs": [
    {
     "output_type": "execute_result",
     "data": {
      "text/plain": [
       "[FileInfo(path='dbfs:/FileStore/tablescopiedFolder/Athletes.csv', name='Athletes.csv', size=418492, modificationTime=1728898865000),\n",
       " FileInfo(path='dbfs:/FileStore/tablescopiedFolder/Coaches.csv', name='Coaches.csv', size=16889, modificationTime=1728898865000),\n",
       " FileInfo(path='dbfs:/FileStore/tablescopiedFolder/Medals.csv', name='Medals.csv', size=2414, modificationTime=1728898865000),\n",
       " FileInfo(path='dbfs:/FileStore/tablescopiedFolder/Teams.csv', name='Teams.csv', size=35270, modificationTime=1728898865000)]"
      ]
     },
     "execution_count": 23,
     "metadata": {},
     "output_type": "execute_result"
    }
   ],
   "source": [
    "dbutils.fs.ls(copiedFolderPath)"
   ]
  },
  {
   "cell_type": "markdown",
   "metadata": {
    "application/vnd.databricks.v1+cell": {
     "cellMetadata": {},
     "inputWidgets": {},
     "nuid": "b84fb01c-1db2-4580-b2c8-5eb340eb1929",
     "showTitle": false,
     "title": ""
    }
   },
   "source": [
    "### Conclusion : The newly created file has been moved from one folder to other folder"
   ]
  },
  {
   "cell_type": "code",
   "execution_count": 0,
   "metadata": {
    "application/vnd.databricks.v1+cell": {
     "cellMetadata": {},
     "inputWidgets": {},
     "nuid": "19353971-1895-419f-8bfd-ddc8ca4e44ce",
     "showTitle": false,
     "title": ""
    }
   },
   "outputs": [],
   "source": []
  }
 ],
 "metadata": {
  "application/vnd.databricks.v1+notebook": {
   "dashboards": [],
   "environmentMetadata": null,
   "language": "python",
   "notebookMetadata": {
    "pythonIndentUnit": 4
   },
   "notebookName": "DB Utils File System Notebook",
   "widgets": {}
  }
 },
 "nbformat": 4,
 "nbformat_minor": 0
}
