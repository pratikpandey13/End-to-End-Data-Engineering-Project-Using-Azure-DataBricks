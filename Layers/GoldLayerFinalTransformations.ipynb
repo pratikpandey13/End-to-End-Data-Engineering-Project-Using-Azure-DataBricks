{
 "cells": [
  {
   "cell_type": "markdown",
   "metadata": {
    "application/vnd.databricks.v1+cell": {
     "cellMetadata": {
      "byteLimit": 2048000,
      "rowLimit": 10000
     },
     "inputWidgets": {},
     "nuid": "ed030d4b-0d40-4ac5-885a-bb27976cebac",
     "showTitle": false,
     "title": ""
    }
   },
   "source": [
    "\n",
    "### Calling common notebook to re-use variables"
   ]
  },
  {
   "cell_type": "code",
   "execution_count": 0,
   "metadata": {
    "application/vnd.databricks.v1+cell": {
     "cellMetadata": {
      "byteLimit": 2048000,
      "rowLimit": 10000
     },
     "inputWidgets": {},
     "nuid": "e9ba9040-cb68-4aa8-8d11-faf3bfb16ade",
     "showTitle": false,
     "title": ""
    }
   },
   "outputs": [],
   "source": [
    "%run \"/Users/shanmukh@shanmukhsattiraju.com/04. Common\""
   ]
  },
  {
   "cell_type": "code",
   "execution_count": 0,
   "metadata": {
    "application/vnd.databricks.v1+cell": {
     "cellMetadata": {
      "byteLimit": 2048000,
      "rowLimit": 10000
     },
     "inputWidgets": {},
     "nuid": "a042e2de-2463-47b2-9edc-b1f47cc8025d",
     "showTitle": false,
     "title": ""
    }
   },
   "outputs": [],
   "source": [
    "dbutils.widgets.text(name=\"env\",defaultValue='',label='Enter the environment in lower case')\n",
    "env = dbutils.widgets.get(\"env\")"
   ]
  },
  {
   "cell_type": "markdown",
   "metadata": {
    "application/vnd.databricks.v1+cell": {
     "cellMetadata": {
      "byteLimit": 2048000,
      "rowLimit": 10000
     },
     "inputWidgets": {},
     "nuid": "7de9bee9-6a05-4dc3-8cda-5c3a35a1b53e",
     "showTitle": false,
     "title": ""
    }
   },
   "source": [
    "\n",
    "### Read Silver_Traffic table"
   ]
  },
  {
   "cell_type": "code",
   "execution_count": 0,
   "metadata": {
    "application/vnd.databricks.v1+cell": {
     "cellMetadata": {
      "byteLimit": 2048000,
      "rowLimit": 10000
     },
     "inputWidgets": {},
     "nuid": "3f309d03-fe11-4c73-acf6-147ea2511399",
     "showTitle": false,
     "title": ""
    }
   },
   "outputs": [],
   "source": [
    "\n",
    "def read_SilverTrafficTable(environment):\n",
    "    print('Reading the Silver Traffic Table Data : ',end='')\n",
    "    df_SilverTraffic = (spark.readStream\n",
    "                    .table(f\"`{environment}_catalog`.`silver`.silver_traffic\")\n",
    "                    )\n",
    "    print(f'Reading {environment}_catalog.silver.silver_traffic Success!')\n",
    "    print(\"**********************************\")\n",
    "    return df_SilverTraffic"
   ]
  },
  {
   "cell_type": "markdown",
   "metadata": {
    "application/vnd.databricks.v1+cell": {
     "cellMetadata": {
      "byteLimit": 2048000,
      "rowLimit": 10000
     },
     "inputWidgets": {},
     "nuid": "93715928-c3ce-462f-8873-c67f59a03f6e",
     "showTitle": false,
     "title": ""
    }
   },
   "source": [
    "\n",
    "### Read silver_roads Table"
   ]
  },
  {
   "cell_type": "code",
   "execution_count": 0,
   "metadata": {
    "application/vnd.databricks.v1+cell": {
     "cellMetadata": {
      "byteLimit": 2048000,
      "rowLimit": 10000
     },
     "inputWidgets": {},
     "nuid": "494cf475-6a43-4d88-bec9-a1ac279336e1",
     "showTitle": false,
     "title": ""
    }
   },
   "outputs": [],
   "source": [
    "\n",
    "def read_SilverRoadsTable(environment):\n",
    "    print('Reading the Silver Table Silver_roads Data : ',end='')\n",
    "    df_SilverRoads = (spark.readStream\n",
    "                    .table(f\"`{environment}_catalog`.`silver`.silver_roads\")\n",
    "                    )\n",
    "    print(f'Reading {environment}_catalog.silver.silver_roads Success!')\n",
    "    print(\"**********************************\")\n",
    "    return df_SilverRoads"
   ]
  },
  {
   "cell_type": "markdown",
   "metadata": {
    "application/vnd.databricks.v1+cell": {
     "cellMetadata": {
      "byteLimit": 2048000,
      "rowLimit": 10000
     },
     "inputWidgets": {},
     "nuid": "dbf1b5ca-e588-4f66-adec-2abfd5129dbd",
     "showTitle": false,
     "title": ""
    }
   },
   "source": [
    "\n",
    "## Creating vehicle Intensity Column"
   ]
  },
  {
   "cell_type": "code",
   "execution_count": 0,
   "metadata": {
    "application/vnd.databricks.v1+cell": {
     "cellMetadata": {
      "byteLimit": 2048000,
      "rowLimit": 10000
     },
     "inputWidgets": {},
     "nuid": "46ca2256-f7e9-48d2-ad3d-4c6f48fd1f2f",
     "showTitle": false,
     "title": ""
    }
   },
   "outputs": [],
   "source": [
    "def create_VehicleIntensity(df):\n",
    " from pyspark.sql.functions import col\n",
    " print('Creating Vehicle Intensity column : ',end='')\n",
    " df_veh = df.withColumn('Vehicle_Intensity',\n",
    "               col('Motor_Vehicles_Count') / col('Link_length_km')\n",
    "               )\n",
    " print(\"Success!!!\")\n",
    " print('***************')\n",
    " return df_veh"
   ]
  },
  {
   "cell_type": "markdown",
   "metadata": {
    "application/vnd.databricks.v1+cell": {
     "cellMetadata": {
      "byteLimit": 2048000,
      "rowLimit": 10000
     },
     "inputWidgets": {},
     "nuid": "b2177ff7-9497-4d9c-a2b6-d3c365933fe1",
     "showTitle": false,
     "title": ""
    }
   },
   "source": [
    "### Creating LoadTime column"
   ]
  },
  {
   "cell_type": "code",
   "execution_count": 0,
   "metadata": {
    "application/vnd.databricks.v1+cell": {
     "cellMetadata": {
      "byteLimit": 2048000,
      "rowLimit": 10000
     },
     "inputWidgets": {},
     "nuid": "6535cf45-a651-4d0c-b3d6-209bf9a58446",
     "showTitle": false,
     "title": ""
    }
   },
   "outputs": [],
   "source": [
    "def create_LoadTime(df):\n",
    "    from pyspark.sql.functions import current_timestamp\n",
    "    print('Creating Load Time column : ',end='')\n",
    "    df_timestamp = df.withColumn('Load_Time',\n",
    "                      current_timestamp()\n",
    "                      )\n",
    "    print('Success!!')\n",
    "    print('**************')\n",
    "    return df_timestamp"
   ]
  },
  {
   "cell_type": "markdown",
   "metadata": {
    "application/vnd.databricks.v1+cell": {
     "cellMetadata": {
      "byteLimit": 2048000,
      "rowLimit": 10000
     },
     "inputWidgets": {},
     "nuid": "9e90a947-97b7-45eb-b07b-fe542f7b9824",
     "showTitle": false,
     "title": ""
    }
   },
   "source": [
    "\n",
    "### Writing Data to Gold Traffic\n"
   ]
  },
  {
   "cell_type": "code",
   "execution_count": 0,
   "metadata": {
    "application/vnd.databricks.v1+cell": {
     "cellMetadata": {
      "byteLimit": 2048000,
      "rowLimit": 10000
     },
     "inputWidgets": {},
     "nuid": "ee34a46a-9e97-4859-b33b-704be1f9c09a",
     "showTitle": false,
     "title": ""
    }
   },
   "outputs": [],
   "source": [
    "def write_Traffic_GoldTable(StreamingDF,environment):\n",
    "    print('Writing the gold_traffic Data : ',end='') \n",
    "\n",
    "    write_gold_traffic = (StreamingDF.writeStream\n",
    "                .format('delta')\n",
    "                .option('checkpointLocation',checkpoint+ \"GoldTrafficLoad/Checkpt/\")\n",
    "                .outputMode('append')\n",
    "                .queryName(\"GoldTrafficWriteStream\")\n",
    "                .trigger(availableNow=True)\n",
    "                .toTable(f\"`{environment}_catalog`.`gold`.`gold_traffic`\"))\n",
    "    \n",
    "    write_gold_traffic.awaitTermination()\n",
    "    print(f'Writing `{environment}_catalog`.`gold`.`gold_traffic` Success!')"
   ]
  },
  {
   "cell_type": "markdown",
   "metadata": {
    "application/vnd.databricks.v1+cell": {
     "cellMetadata": {
      "byteLimit": 2048000,
      "rowLimit": 10000
     },
     "inputWidgets": {},
     "nuid": "2c43defd-b7fc-40a4-832b-40999853c77b",
     "showTitle": false,
     "title": ""
    }
   },
   "source": [
    "\n",
    "### Writing Data to Gold Roads\n"
   ]
  },
  {
   "cell_type": "code",
   "execution_count": 0,
   "metadata": {
    "application/vnd.databricks.v1+cell": {
     "cellMetadata": {
      "byteLimit": 2048000,
      "rowLimit": 10000
     },
     "inputWidgets": {},
     "nuid": "5bf4b720-fe50-49bf-9dbf-783c0deb0749",
     "showTitle": false,
     "title": ""
    }
   },
   "outputs": [],
   "source": [
    "def write_Roads_GoldTable(StreamingDF,environment):\n",
    "    print('Writing the gold_roads Data : ',end='') \n",
    "\n",
    "    write_gold_roads = (StreamingDF.writeStream\n",
    "                .format('delta')\n",
    "                .option('checkpointLocation',checkpoint+ \"GoldRoadsLoad/Checkpt/\")\n",
    "                .outputMode('append')\n",
    "                .queryName(\"GoldRoadsWriteStream\")\n",
    "                .trigger(availableNow=True)\n",
    "                .toTable(f\"`{environment}_catalog`.`gold`.`gold_roads`\"))\n",
    "    \n",
    "    write_gold_roads.awaitTermination()\n",
    "    print(f'Writing `{environment}_catalog`.`gold`.`gold_roads` Success!')"
   ]
  },
  {
   "cell_type": "markdown",
   "metadata": {
    "application/vnd.databricks.v1+cell": {
     "cellMetadata": {
      "byteLimit": 2048000,
      "rowLimit": 10000
     },
     "inputWidgets": {},
     "nuid": "0d85f554-9104-46a8-af3e-3cdd6387b47d",
     "showTitle": false,
     "title": ""
    }
   },
   "source": [
    "\n",
    "## Calling all functions\n"
   ]
  },
  {
   "cell_type": "code",
   "execution_count": 0,
   "metadata": {
    "application/vnd.databricks.v1+cell": {
     "cellMetadata": {
      "byteLimit": 2048000,
      "rowLimit": 10000
     },
     "inputWidgets": {},
     "nuid": "e6416298-01f6-4edd-875b-b87fc4beba54",
     "showTitle": false,
     "title": ""
    }
   },
   "outputs": [
    {
     "output_type": "stream",
     "name": "stdout",
     "output_type": "stream",
     "text": [
      "Reading the Silver Traffic Table Data : Reading dev_catalog.silver.silver_traffic Success!\n**********************************\nReading the Silver Table Silver_roads Data : Reading dev_catalog.silver.silver_roads Success!\n**********************************\nCreating Vehicle Intensity column : Success!!!\n***************\nCreating Load Time column : Success!!\n**************\nCreating Load Time column : Success!!\n**************\nWriting the gold_traffic Data : Writing `dev_catalog`.`gold`.`gold_traffic` Success!\nWriting the gold_roads Data : Writing `dev_catalog`.`gold`.`gold_roads` Success!\n"
     ]
    }
   ],
   "source": [
    "## Reading from Silver tables\n",
    "df_SilverTraffic = read_SilverTrafficTable(env)\n",
    "df_SilverRoads = read_SilverRoadsTable(env)\n",
    "    \n",
    "## Tranformations     \n",
    "df_vehicle = create_VehicleIntensity(df_SilverTraffic)\n",
    "df_FinalTraffic = create_LoadTime(df_vehicle)\n",
    "df_FinalRoads = create_LoadTime(df_SilverRoads)\n",
    "\n",
    "\n",
    "## Writing to gold tables    \n",
    "write_Traffic_GoldTable(df_FinalTraffic,env)\n",
    "write_Roads_GoldTable(df_FinalRoads,env)"
   ]
  },
  {
   "cell_type": "code",
   "execution_count": 0,
   "metadata": {
    "application/vnd.databricks.v1+cell": {
     "cellMetadata": {},
     "inputWidgets": {},
     "nuid": "fdfa1298-6ac1-45ca-bd02-ff43bfb6966c",
     "showTitle": false,
     "title": ""
    }
   },
   "outputs": [],
   "source": []
  }
 ],
 "metadata": {
  "application/vnd.databricks.v1+notebook": {
   "dashboards": [],
   "language": "python",
   "notebookMetadata": {
    "mostRecentlyExecutedCommandWithImplicitDF": {
     "commandId": 950291940839150,
     "dataframes": [
      "_sqldf"
     ]
    },
    "pythonIndentUnit": 4
   },
   "notebookName": "06. Gold - Final Transformations and loading",
   "widgets": {
    "env": {
     "currentValue": "dev",
     "nuid": "ce71b9b8-b880-4ab4-b13a-b0fc0582af23",
     "widgetInfo": {
      "widgetType": "text",
      "defaultValue": "",
      "label": "Enter the environment in lower case",
      "name": "env",
      "options": {
       "widgetType": "text",
       "autoCreated": null,
       "validationRegex": null
      }
     }
    }
   }
  }
 },
 "nbformat": 4,
 "nbformat_minor": 0
}
