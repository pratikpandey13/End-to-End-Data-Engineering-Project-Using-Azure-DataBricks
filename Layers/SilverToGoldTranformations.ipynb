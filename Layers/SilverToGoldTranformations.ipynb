{
 "cells": [
  {
   "cell_type": "markdown",
   "metadata": {
    "application/vnd.databricks.v1+cell": {
     "cellMetadata": {
      "byteLimit": 2048000,
      "rowLimit": 10000
     },
     "inputWidgets": {},
     "nuid": "9b76a140-a5e7-41d4-97ed-954f80ec736c",
     "showTitle": false,
     "title": ""
    }
   },
   "source": [
    "\n",
    "### Running common notebook to get access to variables"
   ]
  },
  {
   "cell_type": "code",
   "execution_count": 0,
   "metadata": {
    "application/vnd.databricks.v1+cell": {
     "cellMetadata": {
      "byteLimit": 2048000,
      "rowLimit": 10000
     },
     "inputWidgets": {},
     "nuid": "0c5531dd-a836-432b-84c8-2e6b1232d297",
     "showTitle": false,
     "title": ""
    },
    "jupyter": {
     "outputs_hidden": true
    }
   },
   "outputs": [],
   "source": [
    "%run \"/Users/shanmukh@shanmukhsattiraju.com/04. Common\""
   ]
  },
  {
   "cell_type": "code",
   "execution_count": 0,
   "metadata": {
    "application/vnd.databricks.v1+cell": {
     "cellMetadata": {
      "byteLimit": 2048000,
      "rowLimit": 10000
     },
     "inputWidgets": {},
     "nuid": "c592fafc-4c90-4386-b1e6-e6ac1f69bcbc",
     "showTitle": false,
     "title": ""
    }
   },
   "outputs": [],
   "source": [
    "dbutils.widgets.text(name=\"env\",defaultValue='',label='Enter the environment in lower case')\n",
    "env = dbutils.widgets.get(\"env\")"
   ]
  },
  {
   "cell_type": "markdown",
   "metadata": {
    "application/vnd.databricks.v1+cell": {
     "cellMetadata": {
      "byteLimit": 2048000,
      "rowLimit": 10000
     },
     "inputWidgets": {},
     "nuid": "e16554f8-9833-4254-9572-72bd09cc95b6",
     "showTitle": false,
     "title": ""
    }
   },
   "source": [
    "\n",
    "### Reading from bronze raw_Roads"
   ]
  },
  {
   "cell_type": "code",
   "execution_count": 0,
   "metadata": {
    "application/vnd.databricks.v1+cell": {
     "cellMetadata": {
      "byteLimit": 2048000,
      "rowLimit": 10000
     },
     "inputWidgets": {},
     "nuid": "9f805c43-465b-4802-8ece-80a98edb5a7c",
     "showTitle": false,
     "title": ""
    }
   },
   "outputs": [],
   "source": [
    "\n",
    "def read_BronzeRoadsTable(environment):\n",
    "    print('Reading the Bronze Table raw_roads Data : ',end='')\n",
    "    df_bronzeRoads = (spark.readStream\n",
    "                    .table(f\"`{environment}_catalog`.`bronze`.raw_roads\")\n",
    "                    )\n",
    "    print(f'Reading {environment}_catalog.bronze.raw_roads Success!')\n",
    "    print(\"**********************************\")\n",
    "    return df_bronzeRoads"
   ]
  },
  {
   "cell_type": "code",
   "execution_count": 0,
   "metadata": {
    "application/vnd.databricks.v1+cell": {
     "cellMetadata": {
      "byteLimit": 2048000,
      "rowLimit": 10000
     },
     "inputWidgets": {},
     "nuid": "b6284d73-4530-42b4-abd1-99ab22aa0fed",
     "showTitle": false,
     "title": ""
    }
   },
   "outputs": [
    {
     "output_type": "stream",
     "name": "stdout",
     "output_type": "stream",
     "text": [
      "Reading the Bronze Table raw_roads Data : Reading dev_catalog.bronze.raw_roads Success!\n**********************************\n"
     ]
    }
   ],
   "source": [
    "df_roads = read_BronzeRoadsTable(env)"
   ]
  },
  {
   "cell_type": "code",
   "execution_count": 0,
   "metadata": {
    "application/vnd.databricks.v1+cell": {
     "cellMetadata": {
      "byteLimit": 2048000,
      "rowLimit": 10000
     },
     "inputWidgets": {},
     "nuid": "d65f8955-f384-4500-96f2-53153ff9fecb",
     "showTitle": false,
     "title": ""
    }
   },
   "outputs": [],
   "source": []
  },
  {
   "cell_type": "markdown",
   "metadata": {
    "application/vnd.databricks.v1+cell": {
     "cellMetadata": {
      "byteLimit": 2048000,
      "rowLimit": 10000
     },
     "inputWidgets": {},
     "nuid": "ba19772e-9a93-44b0-b795-e9b078d9145c",
     "showTitle": false,
     "title": ""
    }
   },
   "source": [
    "\n",
    "### Creating road_category_name column"
   ]
  },
  {
   "cell_type": "code",
   "execution_count": 0,
   "metadata": {
    "application/vnd.databricks.v1+cell": {
     "cellMetadata": {
      "byteLimit": 2048000,
      "rowLimit": 10000
     },
     "inputWidgets": {},
     "nuid": "f35afdec-4cf2-48f1-9e34-208f0628aff8",
     "showTitle": false,
     "title": ""
    }
   },
   "outputs": [],
   "source": [
    "def road_Category(df):\n",
    "    print('Creating Road Category Name Column: ', end='')\n",
    "    from pyspark.sql.functions import when,col\n",
    "\n",
    "    df_road_Cat = df.withColumn(\"Road_Category_Name\",\n",
    "                  when(col('Road_Category') == 'TA', 'Class A Trunk Road')\n",
    "                  .when(col('Road_Category') == 'TM', 'Class A Trunk Motor')\n",
    "                   .when(col('Road_Category') == 'PA','Class A Principal road')\n",
    "                    .when(col('Road_Category') == 'PM','Class A Principal Motorway')\n",
    "                    .when(col('Road_Category') == 'M','Class B road')\n",
    "                    .otherwise('NA')\n",
    "                  \n",
    "                  )\n",
    "    print('Success!! ')\n",
    "    print('***********************')\n",
    "    return df_road_Cat"
   ]
  },
  {
   "cell_type": "markdown",
   "metadata": {
    "application/vnd.databricks.v1+cell": {
     "cellMetadata": {
      "byteLimit": 2048000,
      "rowLimit": 10000
     },
     "inputWidgets": {},
     "nuid": "0a3c5716-62b3-4a87-8fc9-105775140c3c",
     "showTitle": false,
     "title": ""
    }
   },
   "source": [
    "\n",
    "### Creating road_type column\n",
    "\n"
   ]
  },
  {
   "cell_type": "code",
   "execution_count": 0,
   "metadata": {
    "application/vnd.databricks.v1+cell": {
     "cellMetadata": {
      "byteLimit": 2048000,
      "rowLimit": 10000
     },
     "inputWidgets": {},
     "nuid": "d423d77e-29aa-46f0-853c-008a4dff5516",
     "showTitle": false,
     "title": ""
    }
   },
   "outputs": [],
   "source": [
    "def road_Type(df):\n",
    "    print('Creating Road Type Name Column: ', end='')\n",
    "    from pyspark.sql.functions import when,col\n",
    "\n",
    "    df_road_Type = df.withColumn(\"Road_Type\",\n",
    "                  when(col('Road_Category_Name').like('%Class A%'),'Major')\n",
    "                  .when(col('Road_Category_Name').like('%Class B%'),'Minor')\n",
    "                    .otherwise('NA')\n",
    "                  \n",
    "                  )\n",
    "    print('Success!! ')\n",
    "    print('***********************')\n",
    "    return df_road_Type"
   ]
  },
  {
   "cell_type": "markdown",
   "metadata": {
    "application/vnd.databricks.v1+cell": {
     "cellMetadata": {
      "byteLimit": 2048000,
      "rowLimit": 10000
     },
     "inputWidgets": {},
     "nuid": "0c6c15a9-2340-4a44-a1b7-3fee3b697b9b",
     "showTitle": false,
     "title": ""
    }
   },
   "source": [
    "\n",
    "### Writing data to silver_roads in Silver schema"
   ]
  },
  {
   "cell_type": "code",
   "execution_count": 0,
   "metadata": {
    "application/vnd.databricks.v1+cell": {
     "cellMetadata": {
      "byteLimit": 2048000,
      "rowLimit": 10000
     },
     "inputWidgets": {},
     "nuid": "ebbe688b-3bd7-489c-8320-06d5b1ef380e",
     "showTitle": false,
     "title": ""
    }
   },
   "outputs": [],
   "source": [
    "def write_Roads_SilverTable(StreamingDF,environment):\n",
    "    print('Writing the silver_roads Data : ',end='') \n",
    "\n",
    "    write_StreamSilver_R = (StreamingDF.writeStream\n",
    "                .format('delta')\n",
    "                .option('checkpointLocation',checkpoint+ \"/SilverRoadsLoad/Checkpt/\")\n",
    "                .outputMode('append')\n",
    "                .queryName(\"SilverRoadsWriteStream\")\n",
    "                .trigger(availableNow=True)\n",
    "                .toTable(f\"`{environment}_catalog`.`silver`.`silver_roads`\"))\n",
    "    \n",
    "    write_StreamSilver_R.awaitTermination()\n",
    "    print(f'Writing `{environment}_catalog`.`silver`.`silver_roads` Success!')"
   ]
  },
  {
   "cell_type": "markdown",
   "metadata": {
    "application/vnd.databricks.v1+cell": {
     "cellMetadata": {
      "byteLimit": 2048000,
      "rowLimit": 10000
     },
     "inputWidgets": {},
     "nuid": "5520a2cd-34e5-4fe1-83d4-186d2d4be13a",
     "showTitle": false,
     "title": ""
    }
   },
   "source": [
    "\n",
    "### Calling functions"
   ]
  },
  {
   "cell_type": "code",
   "execution_count": 0,
   "metadata": {
    "application/vnd.databricks.v1+cell": {
     "cellMetadata": {
      "byteLimit": 2048000,
      "rowLimit": 10000
     },
     "inputWidgets": {},
     "nuid": "21e5b090-7152-482f-9307-6338e6a999e0",
     "showTitle": false,
     "title": ""
    }
   },
   "outputs": [
    {
     "output_type": "stream",
     "name": "stdout",
     "output_type": "stream",
     "text": [
      "Removing Duplicate values: Success!\nReplacing NULLs of Strings DataType with \"Unknown\": Success!\nReplacing NULLs of Numeric DataType with \"0\":  Success!\nCreating Road Category Name Column: Success!! \n***********************\nCreating Road Type Name Column: Success!! \n***********************\nWriting the silver_roads Data : Writing `dev_catalog`.`silver`.`silver_roads` Success!\n"
     ]
    }
   ],
   "source": [
    "df_noDups = remove_Dups(df_roads)\n",
    "\n",
    "AllColumns = df_noDups.schema.names\n",
    "df_clean = handle_NULLs(df_noDups,AllColumns)\n",
    "\n",
    "## Creating Road_Category_name \n",
    "df_roadCat = road_Category(df_clean)\n",
    "\n",
    "## Creating Road_Type column\n",
    "df_type = road_Type(df_roadCat)\n",
    "\n",
    "## Writing data to silver_roads table\n",
    "\n",
    "write_Roads_SilverTable(df_type,env)"
   ]
  },
  {
   "cell_type": "code",
   "execution_count": 0,
   "metadata": {
    "application/vnd.databricks.v1+cell": {
     "cellMetadata": {
      "byteLimit": 2048000,
      "implicitDf": true,
      "rowLimit": 10000
     },
     "inputWidgets": {},
     "nuid": "787f33e9-6218-4610-a28c-dabcc2490e88",
     "showTitle": false,
     "title": ""
    }
   },
   "outputs": [
    {
     "output_type": "display_data",
     "data": {
      "text/html": [
       "<style scoped>\n",
       "  .table-result-container {\n",
       "    max-height: 300px;\n",
       "    overflow: auto;\n",
       "  }\n",
       "  table, th, td {\n",
       "    border: 1px solid black;\n",
       "    border-collapse: collapse;\n",
       "  }\n",
       "  th, td {\n",
       "    padding: 5px;\n",
       "  }\n",
       "  th {\n",
       "    text-align: left;\n",
       "  }\n",
       "</style><div class='table-result-container'><table class='table-result'><thead style='background-color: white'><tr><th>Road_ID</th><th>Road_Category_Id</th><th>Road_Category</th><th>Region_ID</th><th>Region_Name</th><th>Total_Link_Length_Km</th><th>Total_Link_Length_Miles</th><th>All_Motor_Vehicles</th><th>Road_Category_Name</th><th>Road_Type</th></tr></thead><tbody><tr><td>75</td><td>1</td><td>TM</td><td>7</td><td>East of England</td><td>245.9</td><td>152.8</td><td>4.120104199E9</td><td>Class A Trunk Motor</td><td>Major</td></tr><tr><td>44</td><td>5</td><td>M</td><td>10</td><td>West Midlands</td><td>27956.1</td><td>17371.12</td><td>9.927697665E9</td><td>Class B road</td><td>Minor</td></tr><tr><td>28</td><td>4</td><td>PA</td><td>7</td><td>East of England</td><td>2719.344</td><td>1689.72</td><td>7.493977513E9</td><td>Class A Principal road</td><td>Major</td></tr><tr><td>33</td><td>4</td><td>PA</td><td>8</td><td>Yorkshire and the Humber</td><td>2559.104</td><td>1590.15</td><td>6.365559059E9</td><td>Class A Principal road</td><td>Major</td></tr><tr><td>40</td><td>1</td><td>TM</td><td>10</td><td>West Midlands</td><td>351.963</td><td>218.7</td><td>5.280343918E9</td><td>Class A Trunk Motor</td><td>Major</td></tr><tr><td>39</td><td>5</td><td>M</td><td>9</td><td>South East</td><td>40851.1</td><td>25383.7</td><td>1.5597621429E10</td><td>Class B road</td><td>Minor</td></tr><tr><td>55</td><td>3</td><td>TA</td><td>2</td><td>East Midlands</td><td>1215.788</td><td>755.46</td><td>5.056721458E9</td><td>Class A Trunk Road</td><td>Major</td></tr><tr><td>52</td><td>4</td><td>PA</td><td>1</td><td>South West</td><td>3882.154</td><td>2412.26</td><td>8.028746829E9</td><td>Class A Principal road</td><td>Major</td></tr><tr><td>71</td><td>1</td><td>TM</td><td>6</td><td>London</td><td>66.386</td><td>41.25</td><td>1.311689053E9</td><td>Class A Trunk Motor</td><td>Major</td></tr><tr><td>66</td><td>1</td><td>TM</td><td>5</td><td>North West</td><td>558.839</td><td>347.25</td><td>7.370068617E9</td><td>Class A Trunk Motor</td><td>Major</td></tr><tr><td>5</td><td>1</td><td>TM</td><td>2</td><td>East Midlands</td><td>178.609</td><td>110.98</td><td>2.73666152E9</td><td>Class A Trunk Motor</td><td>Major</td></tr><tr><td>6</td><td>3</td><td>TA</td><td>2</td><td>East Midlands</td><td>1219.231</td><td>757.6</td><td>4.936702686E9</td><td>Class A Trunk Road</td><td>Major</td></tr><tr><td>41</td><td>2</td><td>PM</td><td>10</td><td>West Midlands</td><td>6.895</td><td>4.28</td><td>1.464122624E8</td><td>Class A Principal Motorway</td><td>Major</td></tr><tr><td>59</td><td>3</td><td>TA</td><td>3</td><td>Scotland</td><td>2813.698</td><td>1748.35</td><td>5.19258696E9</td><td>Class A Trunk Road</td><td>Major</td></tr><tr><td>13</td><td>1</td><td>TM</td><td>4</td><td>Wales</td><td>130.291</td><td>80.96</td><td>1.306589845E9</td><td>Class A Trunk Motor</td><td>Major</td></tr><tr><td>60</td><td>4</td><td>PA</td><td>3</td><td>Scotland</td><td>7419.724</td><td>4610.4</td><td>6.67873035E9</td><td>Class A Principal road</td><td>Major</td></tr><tr><td>16</td><td>5</td><td>M</td><td>4</td><td>Wales</td><td>28322.4</td><td>17598.72</td><td>5.286183479E9</td><td>Class B road</td><td>Minor</td></tr><tr><td>56</td><td>4</td><td>PA</td><td>2</td><td>East Midlands</td><td>2575.861</td><td>1600.57</td><td>5.66881734E9</td><td>Class A Principal road</td><td>Major</td></tr><tr><td>29</td><td>5</td><td>M</td><td>7</td><td>East of England</td><td>34610.8</td><td>21506.15</td><td>1.1083436184E10</td><td>Class B road</td><td>Minor</td></tr><tr><td>10</td><td>3</td><td>TA</td><td>3</td><td>Scotland</td><td>2820.302</td><td>1752.45</td><td>5.05292557E9</td><td>Class A Trunk Road</td><td>Major</td></tr><tr><td>37</td><td>3</td><td>TA</td><td>9</td><td>South East</td><td>855.597</td><td>531.64</td><td>5.54362878E9</td><td>Class A Trunk Road</td><td>Major</td></tr><tr><td>54</td><td>1</td><td>TM</td><td>2</td><td>East Midlands</td><td>180.352</td><td>112.07</td><td>2.842352469E9</td><td>Class A Trunk Motor</td><td>Major</td></tr><tr><td>8</td><td>5</td><td>M</td><td>2</td><td>East Midlands</td><td>26712.7</td><td>16598.5</td><td>7.083362916E9</td><td>Class B road</td><td>Minor</td></tr><tr><td>49</td><td>5</td><td>M</td><td>11</td><td>North East</td><td>14025.9</td><td>8715.29</td><td>4.664291984E9</td><td>Class B road</td><td>Minor</td></tr><tr><td>74</td><td>5</td><td>M</td><td>6</td><td>London</td><td>12609.0</td><td>7834.87</td><td>6.938861113E9</td><td>Class B road</td><td>Minor</td></tr><tr><td>21</td><td>5</td><td>M</td><td>5</td><td>North West</td><td>31405.9</td><td>19514.72</td><td>1.0232738407E10</td><td>Class B road</td><td>Minor</td></tr><tr><td>15</td><td>4</td><td>PA</td><td>4</td><td>Wales</td><td>2581.176</td><td>1603.87</td><td>4.010930618E9</td><td>Class A Principal road</td><td>Major</td></tr><tr><td>22</td><td>1</td><td>TM</td><td>6</td><td>London</td><td>65.744</td><td>40.85</td><td>1.245269582E9</td><td>Class A Trunk Motor</td><td>Major</td></tr><tr><td>53</td><td>5</td><td>M</td><td>1</td><td>South West</td><td>43659.6</td><td>27128.82</td><td>9.272591264E9</td><td>Class B road</td><td>Minor</td></tr><tr><td>38</td><td>4</td><td>PA</td><td>9</td><td>South East</td><td>4269.653</td><td>2653.04</td><td>1.2858678243E10</td><td>Class A Principal road</td><td>Major</td></tr><tr><td>58</td><td>1</td><td>TM</td><td>3</td><td>Scotland</td><td>338.535</td><td>210.36</td><td>2.577081643E9</td><td>Class A Trunk Motor</td><td>Major</td></tr><tr><td>1</td><td>1</td><td>TM</td><td>1</td><td>South West</td><td>301.339</td><td>187.24</td><td>3.465840186E9</td><td>Class A Trunk Motor</td><td>Major</td></tr><tr><td>68</td><td>3</td><td>TA</td><td>5</td><td>North West</td><td>823.653</td><td>511.79</td><td>2.750751747E9</td><td>Class A Trunk Road</td><td>Major</td></tr><tr><td>62</td><td>1</td><td>TM</td><td>4</td><td>Wales</td><td>131.563</td><td>81.75</td><td>1.350418388E9</td><td>Class A Trunk Motor</td><td>Major</td></tr><tr><td>48</td><td>4</td><td>PA</td><td>11</td><td>North East</td><td>1301.91</td><td>808.97</td><td>3.108413973E9</td><td>Class A Principal road</td><td>Major</td></tr><tr><td>23</td><td>3</td><td>TA</td><td>6</td><td>London</td><td>339.479</td><td>210.94</td><td>3.913260559E9</td><td>Class A Trunk Road</td><td>Major</td></tr><tr><td>2</td><td>3</td><td>TA</td><td>1</td><td>South West</td><td>993.586</td><td>617.39</td><td>3.48471021E9</td><td>Class A Trunk Road</td><td>Major</td></tr><tr><td>32</td><td>3</td><td>TA</td><td>8</td><td>Yorkshire and the Humber</td><td>703.57</td><td>437.18</td><td>2.966722872E9</td><td>Class A Trunk Road</td><td>Major</td></tr><tr><td>51</td><td>3</td><td>TA</td><td>1</td><td>South West</td><td>991.224</td><td>615.92</td><td>3.592467081E9</td><td>Class A Trunk Road</td><td>Major</td></tr><tr><td>18</td><td>2</td><td>PM</td><td>5</td><td>North West</td><td>38.642</td><td>24.01</td><td>3.003886043E8</td><td>Class A Principal Motorway</td><td>Major</td></tr><tr><td>70</td><td>5</td><td>M</td><td>5</td><td>North West</td><td>31478.1</td><td>19559.58</td><td>1.0352642338E10</td><td>Class B road</td><td>Minor</td></tr><tr><td>9</td><td>1</td><td>TM</td><td>3</td><td>Scotland</td><td>335.263</td><td>208.32</td><td>2.48546845E9</td><td>Class A Trunk Motor</td><td>Major</td></tr><tr><td>20</td><td>4</td><td>PA</td><td>5</td><td>North West</td><td>3128.239</td><td>1943.8</td><td>8.498019318E9</td><td>Class A Principal road</td><td>Major</td></tr><tr><td>27</td><td>3</td><td>TA</td><td>7</td><td>East of England</td><td>1134.757</td><td>705.11</td><td>5.738079521E9</td><td>Class A Trunk Road</td><td>Major</td></tr><tr><td>30</td><td>1</td><td>TM</td><td>8</td><td>Yorkshire and the Humber</td><td>333.613</td><td>207.3</td><td>3.852882985E9</td><td>Class A Trunk Motor</td><td>Major</td></tr><tr><td>11</td><td>4</td><td>PA</td><td>3</td><td>Scotland</td><td>7405.483</td><td>4601.55</td><td>6.514431997E9</td><td>Class A Principal road</td><td>Major</td></tr><tr><td>47</td><td>3</td><td>TA</td><td>11</td><td>North East</td><td>437.347</td><td>271.75</td><td>1.961549915E9</td><td>Class A Trunk Road</td><td>Major</td></tr><tr><td>63</td><td>3</td><td>TA</td><td>4</td><td>Wales</td><td>1506.139</td><td>935.87</td><td>3.217899485E9</td><td>Class A Trunk Road</td><td>Major</td></tr><tr><td>67</td><td>2</td><td>PM</td><td>5</td><td>North West</td><td>38.642</td><td>24.01</td><td>3.055495587E8</td><td>Class A Principal Motorway</td><td>Major</td></tr><tr><td>12</td><td>5</td><td>M</td><td>3</td><td>Scotland</td><td>47971.6</td><td>29808.17</td><td>7.656438848E9</td><td>Class B road</td><td>Minor</td></tr><tr><td>3</td><td>4</td><td>PA</td><td>1</td><td>South West</td><td>3874.924</td><td>2407.77</td><td>7.794003682E9</td><td>Class A Principal road</td><td>Major</td></tr><tr><td>64</td><td>4</td><td>PA</td><td>4</td><td>Wales</td><td>2585.937</td><td>1606.83</td><td>4.111196479E9</td><td>Class A Principal road</td><td>Major</td></tr><tr><td>4</td><td>5</td><td>M</td><td>1</td><td>South West</td><td>43581.7</td><td>27080.41</td><td>9.112005432E9</td><td>Class B road</td><td>Minor</td></tr><tr><td>69</td><td>4</td><td>PA</td><td>5</td><td>North West</td><td>3133.096</td><td>1946.82</td><td>8.658580954E9</td><td>Class A Principal road</td><td>Major</td></tr><tr><td>43</td><td>4</td><td>PA</td><td>10</td><td>West Midlands</td><td>2658.788</td><td>1652.09</td><td>6.579986312E9</td><td>Class A Principal road</td><td>Major</td></tr><tr><td>76</td><td>3</td><td>TA</td><td>7</td><td>East of England</td><td>1131.749</td><td>703.24</td><td>5.888883553E9</td><td>Class A Trunk Road</td><td>Major</td></tr><tr><td>72</td><td>3</td><td>TA</td><td>6</td><td>London</td><td>335.84</td><td>208.68</td><td>3.942920884E9</td><td>Class A Trunk Road</td><td>Major</td></tr><tr><td>19</td><td>3</td><td>TA</td><td>5</td><td>North West</td><td>826.384</td><td>513.49</td><td>2.68912797E9</td><td>Class A Trunk Road</td><td>Major</td></tr><tr><td>42</td><td>3</td><td>TA</td><td>10</td><td>West Midlands</td><td>839.786</td><td>521.82</td><td>3.257861212E9</td><td>Class A Trunk Road</td><td>Major</td></tr><tr><td>7</td><td>4</td><td>PA</td><td>2</td><td>East Midlands</td><td>2571.21</td><td>1597.68</td><td>5.535722338E9</td><td>Class A Principal road</td><td>Major</td></tr><tr><td>73</td><td>4</td><td>PA</td><td>6</td><td>London</td><td>1373.23</td><td>853.29</td><td>7.155061465E9</td><td>Class A Principal road</td><td>Major</td></tr><tr><td>50</td><td>1</td><td>TM</td><td>1</td><td>South West</td><td>304.28</td><td>189.07</td><td>3.609698716E9</td><td>Class A Trunk Motor</td><td>Major</td></tr><tr><td>61</td><td>5</td><td>M</td><td>3</td><td>Scotland</td><td>48054.2</td><td>29859.5</td><td>7.774887696E9</td><td>Class B road</td><td>Minor</td></tr><tr><td>25</td><td>5</td><td>M</td><td>6</td><td>London</td><td>12573.5</td><td>7812.81</td><td>6.889501849E9</td><td>Class B road</td><td>Minor</td></tr><tr><td>36</td><td>2</td><td>PM</td><td>9</td><td>South East</td><td>16.997</td><td>10.56</td><td>2.167368363E8</td><td>Class A Principal Motorway</td><td>Major</td></tr><tr><td>35</td><td>1</td><td>TM</td><td>9</td><td>South East</td><td>594.195</td><td>369.22</td><td>9.617939329E9</td><td>Class A Trunk Motor</td><td>Major</td></tr><tr><td>31</td><td>2</td><td>PM</td><td>8</td><td>Yorkshire and the Humber</td><td>5.612</td><td>3.49</td><td>7.880772228E7</td><td>Class A Principal Motorway</td><td>Major</td></tr><tr><td>57</td><td>5</td><td>M</td><td>2</td><td>East Midlands</td><td>26764.2</td><td>16630.5</td><td>7.198719603E9</td><td>Class B road</td><td>Minor</td></tr><tr><td>26</td><td>1</td><td>TM</td><td>7</td><td>East of England</td><td>243.524</td><td>151.32</td><td>3.92295169E9</td><td>Class A Trunk Motor</td><td>Major</td></tr><tr><td>65</td><td>5</td><td>M</td><td>4</td><td>Wales</td><td>28370.8</td><td>17628.8</td><td>5.374885013E9</td><td>Class B road</td><td>Minor</td></tr><tr><td>17</td><td>1</td><td>TM</td><td>5</td><td>North West</td><td>553.439</td><td>343.89</td><td>7.184955992E9</td><td>Class A Trunk Motor</td><td>Major</td></tr><tr><td>45</td><td>1</td><td>TM</td><td>11</td><td>North East</td><td>51.268</td><td>31.86</td><td>4.734966048E8</td><td>Class A Trunk Motor</td><td>Major</td></tr><tr><td>34</td><td>5</td><td>M</td><td>8</td><td>Yorkshire and the Humber</td><td>27494.7</td><td>17084.41</td><td>7.847735329E9</td><td>Class B road</td><td>Minor</td></tr><tr><td>24</td><td>4</td><td>PA</td><td>6</td><td>London</td><td>1371.723</td><td>852.35</td><td>7.035517996E9</td><td>Class A Principal road</td><td>Major</td></tr><tr><td>46</td><td>2</td><td>PM</td><td>11</td><td>North East</td><td>3.848</td><td>2.39</td><td>5.450292852E7</td><td>Class A Principal Motorway</td><td>Major</td></tr><tr><td>14</td><td>3</td><td>TA</td><td>4</td><td>Wales</td><td>1509.635</td><td>938.04</td><td>3.123943528E9</td><td>Class A Trunk Road</td><td>Major</td></tr></tbody></table></div>"
      ]
     },
     "metadata": {
      "application/vnd.databricks.v1+output": {
       "addedWidgets": {},
       "aggData": [],
       "aggError": "",
       "aggOverflow": false,
       "aggSchema": [],
       "aggSeriesLimitReached": false,
       "aggType": "",
       "arguments": {},
       "columnCustomDisplayInfos": {},
       "data": [
        [
         75,
         1,
         "TM",
         7,
         "East of England",
         245.9,
         152.8,
         4.120104199E9,
         "Class A Trunk Motor",
         "Major"
        ],
        [
         44,
         5,
         "M",
         10,
         "West Midlands",
         27956.1,
         17371.12,
         9.927697665E9,
         "Class B road",
         "Minor"
        ],
        [
         28,
         4,
         "PA",
         7,
         "East of England",
         2719.344,
         1689.72,
         7.493977513E9,
         "Class A Principal road",
         "Major"
        ],
        [
         33,
         4,
         "PA",
         8,
         "Yorkshire and the Humber",
         2559.104,
         1590.15,
         6.365559059E9,
         "Class A Principal road",
         "Major"
        ],
        [
         40,
         1,
         "TM",
         10,
         "West Midlands",
         351.963,
         218.7,
         5.280343918E9,
         "Class A Trunk Motor",
         "Major"
        ],
        [
         39,
         5,
         "M",
         9,
         "South East",
         40851.1,
         25383.7,
         1.5597621429E10,
         "Class B road",
         "Minor"
        ],
        [
         55,
         3,
         "TA",
         2,
         "East Midlands",
         1215.788,
         755.46,
         5.056721458E9,
         "Class A Trunk Road",
         "Major"
        ],
        [
         52,
         4,
         "PA",
         1,
         "South West",
         3882.154,
         2412.26,
         8.028746829E9,
         "Class A Principal road",
         "Major"
        ],
        [
         71,
         1,
         "TM",
         6,
         "London",
         66.386,
         41.25,
         1.311689053E9,
         "Class A Trunk Motor",
         "Major"
        ],
        [
         66,
         1,
         "TM",
         5,
         "North West",
         558.839,
         347.25,
         7.370068617E9,
         "Class A Trunk Motor",
         "Major"
        ],
        [
         5,
         1,
         "TM",
         2,
         "East Midlands",
         178.609,
         110.98,
         2.73666152E9,
         "Class A Trunk Motor",
         "Major"
        ],
        [
         6,
         3,
         "TA",
         2,
         "East Midlands",
         1219.231,
         757.6,
         4.936702686E9,
         "Class A Trunk Road",
         "Major"
        ],
        [
         41,
         2,
         "PM",
         10,
         "West Midlands",
         6.895,
         4.28,
         1.464122624E8,
         "Class A Principal Motorway",
         "Major"
        ],
        [
         59,
         3,
         "TA",
         3,
         "Scotland",
         2813.698,
         1748.35,
         5.19258696E9,
         "Class A Trunk Road",
         "Major"
        ],
        [
         13,
         1,
         "TM",
         4,
         "Wales",
         130.291,
         80.96,
         1.306589845E9,
         "Class A Trunk Motor",
         "Major"
        ],
        [
         60,
         4,
         "PA",
         3,
         "Scotland",
         7419.724,
         4610.4,
         6.67873035E9,
         "Class A Principal road",
         "Major"
        ],
        [
         16,
         5,
         "M",
         4,
         "Wales",
         28322.4,
         17598.72,
         5.286183479E9,
         "Class B road",
         "Minor"
        ],
        [
         56,
         4,
         "PA",
         2,
         "East Midlands",
         2575.861,
         1600.57,
         5.66881734E9,
         "Class A Principal road",
         "Major"
        ],
        [
         29,
         5,
         "M",
         7,
         "East of England",
         34610.8,
         21506.15,
         1.1083436184E10,
         "Class B road",
         "Minor"
        ],
        [
         10,
         3,
         "TA",
         3,
         "Scotland",
         2820.302,
         1752.45,
         5.05292557E9,
         "Class A Trunk Road",
         "Major"
        ],
        [
         37,
         3,
         "TA",
         9,
         "South East",
         855.597,
         531.64,
         5.54362878E9,
         "Class A Trunk Road",
         "Major"
        ],
        [
         54,
         1,
         "TM",
         2,
         "East Midlands",
         180.352,
         112.07,
         2.842352469E9,
         "Class A Trunk Motor",
         "Major"
        ],
        [
         8,
         5,
         "M",
         2,
         "East Midlands",
         26712.7,
         16598.5,
         7.083362916E9,
         "Class B road",
         "Minor"
        ],
        [
         49,
         5,
         "M",
         11,
         "North East",
         14025.9,
         8715.29,
         4.664291984E9,
         "Class B road",
         "Minor"
        ],
        [
         74,
         5,
         "M",
         6,
         "London",
         12609.0,
         7834.87,
         6.938861113E9,
         "Class B road",
         "Minor"
        ],
        [
         21,
         5,
         "M",
         5,
         "North West",
         31405.9,
         19514.72,
         1.0232738407E10,
         "Class B road",
         "Minor"
        ],
        [
         15,
         4,
         "PA",
         4,
         "Wales",
         2581.176,
         1603.87,
         4.010930618E9,
         "Class A Principal road",
         "Major"
        ],
        [
         22,
         1,
         "TM",
         6,
         "London",
         65.744,
         40.85,
         1.245269582E9,
         "Class A Trunk Motor",
         "Major"
        ],
        [
         53,
         5,
         "M",
         1,
         "South West",
         43659.6,
         27128.82,
         9.272591264E9,
         "Class B road",
         "Minor"
        ],
        [
         38,
         4,
         "PA",
         9,
         "South East",
         4269.653,
         2653.04,
         1.2858678243E10,
         "Class A Principal road",
         "Major"
        ],
        [
         58,
         1,
         "TM",
         3,
         "Scotland",
         338.535,
         210.36,
         2.577081643E9,
         "Class A Trunk Motor",
         "Major"
        ],
        [
         1,
         1,
         "TM",
         1,
         "South West",
         301.339,
         187.24,
         3.465840186E9,
         "Class A Trunk Motor",
         "Major"
        ],
        [
         68,
         3,
         "TA",
         5,
         "North West",
         823.653,
         511.79,
         2.750751747E9,
         "Class A Trunk Road",
         "Major"
        ],
        [
         62,
         1,
         "TM",
         4,
         "Wales",
         131.563,
         81.75,
         1.350418388E9,
         "Class A Trunk Motor",
         "Major"
        ],
        [
         48,
         4,
         "PA",
         11,
         "North East",
         1301.91,
         808.97,
         3.108413973E9,
         "Class A Principal road",
         "Major"
        ],
        [
         23,
         3,
         "TA",
         6,
         "London",
         339.479,
         210.94,
         3.913260559E9,
         "Class A Trunk Road",
         "Major"
        ],
        [
         2,
         3,
         "TA",
         1,
         "South West",
         993.586,
         617.39,
         3.48471021E9,
         "Class A Trunk Road",
         "Major"
        ],
        [
         32,
         3,
         "TA",
         8,
         "Yorkshire and the Humber",
         703.57,
         437.18,
         2.966722872E9,
         "Class A Trunk Road",
         "Major"
        ],
        [
         51,
         3,
         "TA",
         1,
         "South West",
         991.224,
         615.92,
         3.592467081E9,
         "Class A Trunk Road",
         "Major"
        ],
        [
         18,
         2,
         "PM",
         5,
         "North West",
         38.642,
         24.01,
         3.003886043E8,
         "Class A Principal Motorway",
         "Major"
        ],
        [
         70,
         5,
         "M",
         5,
         "North West",
         31478.1,
         19559.58,
         1.0352642338E10,
         "Class B road",
         "Minor"
        ],
        [
         9,
         1,
         "TM",
         3,
         "Scotland",
         335.263,
         208.32,
         2.48546845E9,
         "Class A Trunk Motor",
         "Major"
        ],
        [
         20,
         4,
         "PA",
         5,
         "North West",
         3128.239,
         1943.8,
         8.498019318E9,
         "Class A Principal road",
         "Major"
        ],
        [
         27,
         3,
         "TA",
         7,
         "East of England",
         1134.757,
         705.11,
         5.738079521E9,
         "Class A Trunk Road",
         "Major"
        ],
        [
         30,
         1,
         "TM",
         8,
         "Yorkshire and the Humber",
         333.613,
         207.3,
         3.852882985E9,
         "Class A Trunk Motor",
         "Major"
        ],
        [
         11,
         4,
         "PA",
         3,
         "Scotland",
         7405.483,
         4601.55,
         6.514431997E9,
         "Class A Principal road",
         "Major"
        ],
        [
         47,
         3,
         "TA",
         11,
         "North East",
         437.347,
         271.75,
         1.961549915E9,
         "Class A Trunk Road",
         "Major"
        ],
        [
         63,
         3,
         "TA",
         4,
         "Wales",
         1506.139,
         935.87,
         3.217899485E9,
         "Class A Trunk Road",
         "Major"
        ],
        [
         67,
         2,
         "PM",
         5,
         "North West",
         38.642,
         24.01,
         3.055495587E8,
         "Class A Principal Motorway",
         "Major"
        ],
        [
         12,
         5,
         "M",
         3,
         "Scotland",
         47971.6,
         29808.17,
         7.656438848E9,
         "Class B road",
         "Minor"
        ],
        [
         3,
         4,
         "PA",
         1,
         "South West",
         3874.924,
         2407.77,
         7.794003682E9,
         "Class A Principal road",
         "Major"
        ],
        [
         64,
         4,
         "PA",
         4,
         "Wales",
         2585.937,
         1606.83,
         4.111196479E9,
         "Class A Principal road",
         "Major"
        ],
        [
         4,
         5,
         "M",
         1,
         "South West",
         43581.7,
         27080.41,
         9.112005432E9,
         "Class B road",
         "Minor"
        ],
        [
         69,
         4,
         "PA",
         5,
         "North West",
         3133.096,
         1946.82,
         8.658580954E9,
         "Class A Principal road",
         "Major"
        ],
        [
         43,
         4,
         "PA",
         10,
         "West Midlands",
         2658.788,
         1652.09,
         6.579986312E9,
         "Class A Principal road",
         "Major"
        ],
        [
         76,
         3,
         "TA",
         7,
         "East of England",
         1131.749,
         703.24,
         5.888883553E9,
         "Class A Trunk Road",
         "Major"
        ],
        [
         72,
         3,
         "TA",
         6,
         "London",
         335.84,
         208.68,
         3.942920884E9,
         "Class A Trunk Road",
         "Major"
        ],
        [
         19,
         3,
         "TA",
         5,
         "North West",
         826.384,
         513.49,
         2.68912797E9,
         "Class A Trunk Road",
         "Major"
        ],
        [
         42,
         3,
         "TA",
         10,
         "West Midlands",
         839.786,
         521.82,
         3.257861212E9,
         "Class A Trunk Road",
         "Major"
        ],
        [
         7,
         4,
         "PA",
         2,
         "East Midlands",
         2571.21,
         1597.68,
         5.535722338E9,
         "Class A Principal road",
         "Major"
        ],
        [
         73,
         4,
         "PA",
         6,
         "London",
         1373.23,
         853.29,
         7.155061465E9,
         "Class A Principal road",
         "Major"
        ],
        [
         50,
         1,
         "TM",
         1,
         "South West",
         304.28,
         189.07,
         3.609698716E9,
         "Class A Trunk Motor",
         "Major"
        ],
        [
         61,
         5,
         "M",
         3,
         "Scotland",
         48054.2,
         29859.5,
         7.774887696E9,
         "Class B road",
         "Minor"
        ],
        [
         25,
         5,
         "M",
         6,
         "London",
         12573.5,
         7812.81,
         6.889501849E9,
         "Class B road",
         "Minor"
        ],
        [
         36,
         2,
         "PM",
         9,
         "South East",
         16.997,
         10.56,
         2.167368363E8,
         "Class A Principal Motorway",
         "Major"
        ],
        [
         35,
         1,
         "TM",
         9,
         "South East",
         594.195,
         369.22,
         9.617939329E9,
         "Class A Trunk Motor",
         "Major"
        ],
        [
         31,
         2,
         "PM",
         8,
         "Yorkshire and the Humber",
         5.612,
         3.49,
         7.880772228E7,
         "Class A Principal Motorway",
         "Major"
        ],
        [
         57,
         5,
         "M",
         2,
         "East Midlands",
         26764.2,
         16630.5,
         7.198719603E9,
         "Class B road",
         "Minor"
        ],
        [
         26,
         1,
         "TM",
         7,
         "East of England",
         243.524,
         151.32,
         3.92295169E9,
         "Class A Trunk Motor",
         "Major"
        ],
        [
         65,
         5,
         "M",
         4,
         "Wales",
         28370.8,
         17628.8,
         5.374885013E9,
         "Class B road",
         "Minor"
        ],
        [
         17,
         1,
         "TM",
         5,
         "North West",
         553.439,
         343.89,
         7.184955992E9,
         "Class A Trunk Motor",
         "Major"
        ],
        [
         45,
         1,
         "TM",
         11,
         "North East",
         51.268,
         31.86,
         4.734966048E8,
         "Class A Trunk Motor",
         "Major"
        ],
        [
         34,
         5,
         "M",
         8,
         "Yorkshire and the Humber",
         27494.7,
         17084.41,
         7.847735329E9,
         "Class B road",
         "Minor"
        ],
        [
         24,
         4,
         "PA",
         6,
         "London",
         1371.723,
         852.35,
         7.035517996E9,
         "Class A Principal road",
         "Major"
        ],
        [
         46,
         2,
         "PM",
         11,
         "North East",
         3.848,
         2.39,
         5.450292852E7,
         "Class A Principal Motorway",
         "Major"
        ],
        [
         14,
         3,
         "TA",
         4,
         "Wales",
         1509.635,
         938.04,
         3.123943528E9,
         "Class A Trunk Road",
         "Major"
        ]
       ],
       "datasetInfos": [],
       "dbfsResultPath": null,
       "isJsonSchema": true,
       "metadata": {
        "dataframeName": "_sqldf",
        "executionCount": 51
       },
       "overflow": false,
       "plotOptions": {
        "customPlotOptions": {},
        "displayType": "table",
        "pivotAggregation": null,
        "pivotColumns": null,
        "xColumns": null,
        "yColumns": null
       },
       "removedWidgets": [],
       "schema": [
        {
         "metadata": "{}",
         "name": "Road_ID",
         "type": "\"integer\""
        },
        {
         "metadata": "{}",
         "name": "Road_Category_Id",
         "type": "\"integer\""
        },
        {
         "metadata": "{}",
         "name": "Road_Category",
         "type": "\"string\""
        },
        {
         "metadata": "{}",
         "name": "Region_ID",
         "type": "\"integer\""
        },
        {
         "metadata": "{}",
         "name": "Region_Name",
         "type": "\"string\""
        },
        {
         "metadata": "{}",
         "name": "Total_Link_Length_Km",
         "type": "\"double\""
        },
        {
         "metadata": "{}",
         "name": "Total_Link_Length_Miles",
         "type": "\"double\""
        },
        {
         "metadata": "{}",
         "name": "All_Motor_Vehicles",
         "type": "\"double\""
        },
        {
         "metadata": "{}",
         "name": "Road_Category_Name",
         "type": "\"string\""
        },
        {
         "metadata": "{}",
         "name": "Road_Type",
         "type": "\"string\""
        }
       ],
       "type": "table"
      }
     },
     "output_type": "display_data"
    }
   ],
   "source": [
    "%sql\n",
    "\n",
    "SELECT * FROM `dev_catalog`.`silver`.`silver_roads` "
   ]
  },
  {
   "cell_type": "code",
   "execution_count": 0,
   "metadata": {
    "application/vnd.databricks.v1+cell": {
     "cellMetadata": {},
     "inputWidgets": {},
     "nuid": "e511ded0-d117-4305-b71b-07d38435a657",
     "showTitle": false,
     "title": ""
    }
   },
   "outputs": [],
   "source": []
  }
 ],
 "metadata": {
  "application/vnd.databricks.v1+notebook": {
   "dashboards": [],
   "language": "python",
   "notebookMetadata": {
    "mostRecentlyExecutedCommandWithImplicitDF": {
     "commandId": 1389591595396577,
     "dataframes": [
      "_sqldf"
     ]
    },
    "pythonIndentUnit": 4
   },
   "notebookName": "05. Silver - Roads Transformation",
   "widgets": {
    "env": {
     "currentValue": "dev",
     "nuid": "a2272d04-2d4d-4bf1-a473-417ce16c5c53",
     "widgetInfo": {
      "widgetType": "text",
      "defaultValue": "",
      "label": "Enter the environment in lower case",
      "name": "env",
      "options": {
       "widgetType": "text",
       "autoCreated": null,
       "validationRegex": null
      }
     }
    }
   }
  }
 },
 "nbformat": 4,
 "nbformat_minor": 0
}
